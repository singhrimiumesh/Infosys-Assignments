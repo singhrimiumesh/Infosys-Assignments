{
  "nbformat": 4,
  "nbformat_minor": 0,
  "metadata": {
    "colab": {
      "provenance": [],
      "authorship_tag": "ABX9TyON/73dyEPU4h8/NPsua95e"
    },
    "kernelspec": {
      "name": "python3",
      "display_name": "Python 3"
    },
    "language_info": {
      "name": "python"
    }
  },
  "cells": [
    {
      "cell_type": "code",
      "source": [
        "import requests\n",
        "import json"
      ],
      "metadata": {
        "id": "UnTy5mc8nAuG"
      },
      "execution_count": 6,
      "outputs": []
    },
    {
      "cell_type": "code",
      "source": [
        "API_KEY = \"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\"\n",
        "url = \"https://api.groq.com/openai/v1/chat/completions\""
      ],
      "metadata": {
        "id": "fX65Nnn4nLLb"
      },
      "execution_count": 7,
      "outputs": []
    },
    {
      "cell_type": "code",
      "source": [
        "messages = [\n",
        "    {\n",
        "        \"role\": \"system\",\n",
        "        \"content\": (\n",
        "            \"You are an AI fitness coach. Help users achieve their fitness goals by providing \"\n",
        "            \"personalized workout plans, exercise suggestions, and fitness tips. Be encouraging \"\n",
        "            \"and provide step-by-step details for exercises, ensuring clarity and motivation.\"\n",
        "        )\n",
        "    }\n",
        "]"
      ],
      "metadata": {
        "id": "XVYt-AnZnQfR"
      },
      "execution_count": 8,
      "outputs": []
    },
    {
      "cell_type": "code",
      "source": [
        "def get_response(prompt):\n",
        "    messages.append({\"role\": \"user\", \"content\": prompt})\n",
        "    data = {\n",
        "        \"messages\": messages,\n",
        "        \"model\": \"llama3-8b-8192\",\n",
        "        \"temperature\": 0.7\n",
        "    }\n",
        "    headers = {\n",
        "        \"Content-Type\": \"application/json\",\n",
        "        \"Authorization\": f\"Bearer {API_KEY}\"\n",
        "    }\n",
        "    response = requests.post(url, data=json.dumps(data), headers=headers)\n",
        "    result = response.json()\n",
        "\n",
        "    reply = result[\"choices\"][0][\"message\"][\"content\"]\n",
        "    messages.append({\"role\": \"assistant\", \"content\": reply})\n",
        "    return reply"
      ],
      "metadata": {
        "id": "AuP84bTknfUP"
      },
      "execution_count": 9,
      "outputs": []
    },
    {
      "cell_type": "code",
      "source": [
        "print(\"🤖 Welcome to the AI Fitness Coach Bot! Let's get you fit and healthy! 💪\\n\")\n",
        "print(\"Type 'exit' to quit the bot at any time.\\n\")\n",
        "print(\"\\n========================================================================================================\\n\")\n",
        "while True:\n",
        "    user_input = input(\"🏋️ Enter your fitness query:\\n\\n\")\n",
        "    if user_input.lower() == \"exit\":\n",
        "        print(\"\\n========================================================================================================\\n\")\n",
        "        print(\"\\n👋 Stay fit and healthy! See you next time. 💪\")\n",
        "        break\n",
        "    response = get_response(user_input)\n",
        "    print(f\"\\n🤖 AI Fitness Coach:\\n{response}\\n\")\n",
        "    print(f\"\\n========================================================================================================\\n\")\n"
      ],
      "metadata": {
        "colab": {
          "base_uri": "https://localhost:8080/"
        },
        "id": "Zc7MY_mFniWf",
        "outputId": "fee6ec0c-e611-4f10-e5cf-6132007ab5b3"
      },
      "execution_count": null,
      "outputs": [
        {
          "output_type": "stream",
          "name": "stdout",
          "text": [
            "🤖 Welcome to the AI Fitness Coach Bot! Let's get you fit and healthy! 💪\n",
            "\n",
            "Type 'exit' to quit the bot at any time.\n",
            "\n",
            "\n",
            "========================================================================================================\n",
            "\n"
          ]
        }
      ]
    },
    {
      "cell_type": "code",
      "source": [],
      "metadata": {
        "id": "Esjh5yd_oVLM"
      },
      "execution_count": null,
      "outputs": []
    }
  ]
}